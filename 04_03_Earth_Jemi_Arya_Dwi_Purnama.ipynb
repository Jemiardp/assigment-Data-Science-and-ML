{
  "nbformat": 4,
  "nbformat_minor": 0,
  "metadata": {
    "colab": {
      "provenance": []
    },
    "kernelspec": {
      "name": "python3",
      "display_name": "Python 3"
    },
    "language_info": {
      "name": "python"
    }
  },
  "cells": [
    {
      "cell_type": "markdown",
      "source": [
        "##Langkah 1 Import Libraries\n",
        "Masukan dan panggil library dan modul yang dibutuhkan"
      ],
      "metadata": {
        "id": "3s5rtuXtiXum"
      }
    },
    {
      "cell_type": "code",
      "execution_count": null,
      "metadata": {
        "id": "_VD2Q_0KiVl3"
      },
      "outputs": [],
      "source": [
        "import torch\n",
        "import torch.nn as nn\n",
        "import torch.optim as optim\n",
        "from torchvision import datasets, transforms\n",
        "from sklearn.metrics import accuracy_score, confusion_matrix, classification_report\n",
        "import matplotlib.pyplot as plt\n"
      ]
    },
    {
      "cell_type": "markdown",
      "source": [
        "##Langkah 2 Load and Visualize the MNIST Dataset\n",
        "Jalankan MNIST Dataset dan visualisasikan"
      ],
      "metadata": {
        "id": "mrAvBYX5i6qG"
      }
    },
    {
      "cell_type": "code",
      "source": [
        "# Define data transformations\n",
        "transform = transforms.Compose([transforms.ToTensor(), transforms.Normalize((0.5,), (0.5,))])\n",
        "\n",
        "# Load the MNIST training and testing datasets\n",
        "train_dataset = datasets.MNIST('data', train=True, transform=transform, download=True)\n",
        "test_dataset = datasets.MNIST('data', train=False, transform=transform, download=True)\n",
        "\n",
        "# Create data loaders\n",
        "batch_size = 64\n",
        "train_loader = torch.utils.data.DataLoader(train_dataset, batch_size=batch_size, shuffle=True)\n",
        "test_loader = torch.utils.data.DataLoader(test_dataset, batch_size=batch_size, shuffle=False)\n",
        "\n",
        "# Visualize some examples\n",
        "def imshow(img):\n",
        "    img = img / 2 + 0.5  # Unnormalize\n",
        "    plt.imshow(img.squeeze(), cmap='gray')\n",
        "\n",
        "dataiter = iter(train_loader)\n",
        "images, labels = next(dataiter)\n",
        "\n",
        "# Display a few images\n",
        "fig, axes = plt.subplots(1, 5, figsize=(15, 3))\n",
        "for i in range(5):\n",
        "    axes[i].set_title(labels[i].item())\n",
        "    imshow(images[i])\n"
      ],
      "metadata": {
        "colab": {
          "base_uri": "https://localhost:8080/",
          "height": 683
        },
        "id": "MGwlAgnyjNKm",
        "outputId": "ad14e406-5b91-4752-926b-885db397dfc4"
      },
      "execution_count": null,
      "outputs": [
        {
          "output_type": "stream",
          "name": "stdout",
          "text": [
            "Downloading http://yann.lecun.com/exdb/mnist/train-images-idx3-ubyte.gz\n",
            "Downloading http://yann.lecun.com/exdb/mnist/train-images-idx3-ubyte.gz to data/MNIST/raw/train-images-idx3-ubyte.gz\n"
          ]
        },
        {
          "output_type": "stream",
          "name": "stderr",
          "text": [
            "100%|██████████| 9912422/9912422 [00:00<00:00, 117316927.33it/s]\n"
          ]
        },
        {
          "output_type": "stream",
          "name": "stdout",
          "text": [
            "Extracting data/MNIST/raw/train-images-idx3-ubyte.gz to data/MNIST/raw\n",
            "\n",
            "Downloading http://yann.lecun.com/exdb/mnist/train-labels-idx1-ubyte.gz\n",
            "Downloading http://yann.lecun.com/exdb/mnist/train-labels-idx1-ubyte.gz to data/MNIST/raw/train-labels-idx1-ubyte.gz\n"
          ]
        },
        {
          "output_type": "stream",
          "name": "stderr",
          "text": [
            "100%|██████████| 28881/28881 [00:00<00:00, 105518897.06it/s]\n"
          ]
        },
        {
          "output_type": "stream",
          "name": "stdout",
          "text": [
            "Extracting data/MNIST/raw/train-labels-idx1-ubyte.gz to data/MNIST/raw\n",
            "\n",
            "Downloading http://yann.lecun.com/exdb/mnist/t10k-images-idx3-ubyte.gz\n",
            "Downloading http://yann.lecun.com/exdb/mnist/t10k-images-idx3-ubyte.gz to data/MNIST/raw/t10k-images-idx3-ubyte.gz\n"
          ]
        },
        {
          "output_type": "stream",
          "name": "stderr",
          "text": [
            "100%|██████████| 1648877/1648877 [00:00<00:00, 50059291.78it/s]"
          ]
        },
        {
          "output_type": "stream",
          "name": "stdout",
          "text": [
            "Extracting data/MNIST/raw/t10k-images-idx3-ubyte.gz to data/MNIST/raw\n"
          ]
        },
        {
          "output_type": "stream",
          "name": "stderr",
          "text": [
            "\n"
          ]
        },
        {
          "output_type": "stream",
          "name": "stdout",
          "text": [
            "\n",
            "Downloading http://yann.lecun.com/exdb/mnist/t10k-labels-idx1-ubyte.gz\n",
            "Downloading http://yann.lecun.com/exdb/mnist/t10k-labels-idx1-ubyte.gz to data/MNIST/raw/t10k-labels-idx1-ubyte.gz\n"
          ]
        },
        {
          "output_type": "stream",
          "name": "stderr",
          "text": [
            "100%|██████████| 4542/4542 [00:00<00:00, 9714701.05it/s]\n"
          ]
        },
        {
          "output_type": "stream",
          "name": "stdout",
          "text": [
            "Extracting data/MNIST/raw/t10k-labels-idx1-ubyte.gz to data/MNIST/raw\n",
            "\n"
          ]
        },
        {
          "output_type": "display_data",
          "data": {
            "text/plain": [
              "<Figure size 1500x300 with 5 Axes>"
            ],
            "image/png": "[encoded data removed]"
          },
          "metadata": {}
        }
      ]
    },
    {
      "cell_type": "markdown",
      "source": [
        "##Langkah 3 Define the Neural Network Model\n",
        "Desain feedforward neural network model sederhana"
      ],
      "metadata": {
        "id": "ugtLpu1RjUNw"
      }
    },
    {
      "cell_type": "code",
      "source": [
        "class SimpleNN(nn.Module):\n",
        "    def __init__(self):\n",
        "        super(SimpleNN, self).__init__()\n",
        "        self.fc1 = nn.Linear(28 * 28, 128)\n",
        "        self.fc2 = nn.Linear(128, 64)\n",
        "        self.fc3 = nn.Linear(64, 10)\n",
        "\n",
        "    def forward(self, x):\n",
        "        x = x.view(-1, 28 * 28)\n",
        "        x = torch.relu(self.fc1(x))\n",
        "        x = torch.relu(self.fc2(x))\n",
        "        x = self.fc3(x)\n",
        "        return x\n",
        "\n",
        "# Create an instance of the model\n",
        "model = SimpleNN()\n"
      ],
      "metadata": {
        "id": "3wWzpaMjjoeU"
      },
      "execution_count": null,
      "outputs": []
    },
    {
      "cell_type": "markdown",
      "source": [
        "##Langkah 4 Define Loss Function, Optimizer, and Hyperparameters\n",
        "mencari loss function, optimizer dan hyperparameter yang terjadi"
      ],
      "metadata": {
        "id": "Q32W_lArjtoQ"
      }
    },
    {
      "cell_type": "code",
      "source": [
        "criterion = nn.CrossEntropyLoss()\n",
        "optimizer = optim.SGD(model.parameters(), lr=0.01)\n",
        "num_epochs = 10\n"
      ],
      "metadata": {
        "id": "Ml7pnEMyj_TB"
      },
      "execution_count": null,
      "outputs": []
    },
    {
      "cell_type": "markdown",
      "source": [
        "##Langkah 5 Training Loop\n",
        "Melakukan Trining model"
      ],
      "metadata": {
        "id": "Q4zipZR9kLC2"
      }
    },
    {
      "cell_type": "code",
      "source": [
        "for epoch in range(num_epochs):\n",
        "    running_loss = 0.0\n",
        "    for inputs, labels in train_loader:\n",
        "        optimizer.zero_grad()  # Zero the gradients\n",
        "        outputs = model(inputs)  # Forward pass\n",
        "        loss = criterion(outputs, labels)  # Calculate loss\n",
        "        loss.backward()  # Backpropagation\n",
        "        optimizer.step()  # Update weights\n",
        "\n",
        "        running_loss += loss.item()\n",
        "\n",
        "    print(f'Epoch {epoch + 1}/{num_epochs}, Loss: {running_loss / len(train_loader)}')\n"
      ],
      "metadata": {
        "colab": {
          "base_uri": "https://localhost:8080/"
        },
        "id": "5O8s9slxkWna",
        "outputId": "16da4301-34f1-45e0-b8a4-01cfcbb9ca41"
      },
      "execution_count": null,
      "outputs": [
        {
          "output_type": "stream",
          "name": "stdout",
          "text": [
            "Epoch 1/10, Loss: 1.045094030275782\n",
            "Epoch 2/10, Loss: 0.38615690205079406\n",
            "Epoch 3/10, Loss: 0.32281766047895843\n",
            "Epoch 4/10, Loss: 0.29040855951686656\n",
            "Epoch 5/10, Loss: 0.26541231398675236\n",
            "Epoch 6/10, Loss: 0.2440595491918356\n",
            "Epoch 7/10, Loss: 0.22449837458619812\n",
            "Epoch 8/10, Loss: 0.20681721434743802\n",
            "Epoch 9/10, Loss: 0.1910484365975933\n",
            "Epoch 10/10, Loss: 0.17706519020979467\n"
          ]
        }
      ]
    },
    {
      "cell_type": "markdown",
      "source": [
        "## Langkah 6 Evaluate the Model\n",
        "ini dilakukan agar traiing model bisa mendapatkan hasil yang maksimal"
      ],
      "metadata": {
        "id": "HjGuucAGkbZl"
      }
    },
    {
      "cell_type": "code",
      "source": [
        "model.eval()\n",
        "all_preds = []\n",
        "all_labels = []\n",
        "\n",
        "with torch.no_grad():\n",
        "    for inputs, labels in test_loader:\n",
        "        outputs = model(inputs)\n",
        "        _, preds = torch.max(outputs, 1)\n",
        "        all_preds.extend(preds.tolist())\n",
        "        all_labels.extend(labels.tolist())\n",
        "\n",
        "# Calculate accuracy\n",
        "accuracy = accuracy_score(all_labels, all_preds)\n",
        "\n",
        "# Calculate confusion matrix\n",
        "conf_matrix = confusion_matrix(all_labels, all_preds)\n",
        "\n",
        "# Calculate other performance metrics (precision, recall, F1-score)\n",
        "classification_rep = classification_report(all_labels, all_preds)\n",
        "\n",
        "print(f'Accuracy: {accuracy}')\n",
        "print(f'Confusion Matrix:\\n{conf_matrix}')\n",
        "print(f'Classification Report:\\n{classification_rep}')\n"
      ],
      "metadata": {
        "colab": {
          "base_uri": "https://localhost:8080/"
        },
        "id": "kslgx74qkunE",
        "outputId": "01722dab-7ad9-4da5-f025-769c431a4d78"
      },
      "execution_count": null,
      "outputs": [
        {
          "output_type": "stream",
          "name": "stdout",
          "text": [
            "Accuracy: 0.9484\n",
            "Confusion Matrix:\n",
            "[[ 965    0    1    1    0    4    7    1    1    0]\n",
            " [   0 1117    3    2    0    1    4    2    6    0]\n",
            " [  11    2  967   12    5    0   13   11   10    1]\n",
            " [   3    1   14  955    0   14    1   10    9    3]\n",
            " [   1    1    4    0  924    0   14    1    2   35]\n",
            " [   9    2    1   14    3  833   15    0    8    7]\n",
            " [   8    3    2    0    4    8  931    1    1    0]\n",
            " [   3    8   20    8    4    1    0  957    0   27]\n",
            " [   6    3    6   21   10   11   14    9  886    8]\n",
            " [  10    4    1   11   18    7    1    7    1  949]]\n",
            "Classification Report:\n",
            "              precision    recall  f1-score   support\n",
            "\n",
            "           0       0.95      0.98      0.97       980\n",
            "           1       0.98      0.98      0.98      1135\n",
            "           2       0.95      0.94      0.94      1032\n",
            "           3       0.93      0.95      0.94      1010\n",
            "           4       0.95      0.94      0.95       982\n",
            "           5       0.95      0.93      0.94       892\n",
            "           6       0.93      0.97      0.95       958\n",
            "           7       0.96      0.93      0.94      1028\n",
            "           8       0.96      0.91      0.93       974\n",
            "           9       0.92      0.94      0.93      1009\n",
            "\n",
            "    accuracy                           0.95     10000\n",
            "   macro avg       0.95      0.95      0.95     10000\n",
            "weighted avg       0.95      0.95      0.95     10000\n",
            "\n"
          ]
        }
      ]
    },
    {
      "cell_type": "markdown",
      "source": [
        "## Langkah 7 Kesimpulan dari data MNIST yang telah dilakukan\n",
        "Dalam alur kerja ini, telah berhasil mengimplementasikan jaringan saraf maju sederhana untuk klasifikasi digit tulisan tangan MNIST menggunakan PyTorch. Berikut beberapa poin penting tentang hasilnya:\n",
        "\n",
        "Akurasi: Skor akurasi memberi tahu kita sejauh mana kinerja model dalam hal mengklasifikasikan digit dengan benar. Ini memberi kita gagasan umum tentang kinerja model, dan dalam kasus ini, seharusnya cukup tinggi.\n",
        "\n",
        "Matriks Konfusi: Matriks konfusi memberikan pemecahan rinci tentang berapa banyak digit yang diklasifikasikan dengan benar dan dengan salah untuk setiap kelas (0 hingga 9). Ini membantu mengidentifikasi di mana model mungkin membuat lebih banyak kesalahan.\n",
        "\n",
        "Laporan Klasifikasi: Laporan klasifikasi mencakup metrik tambahan seperti presisi, recall, dan skor F1 untuk setiap kelas. Ini dapat memberikan wawasan tentang kinerja model pada kelas-kelas digit individual.\n",
        "\n",
        "Untuk meningkatkan model lebih lanjut, kita dapat melakukan percobaan dengan berbagai hiperparameter, arsitektur jaringan, atau menggunakan teknik yang lebih canggih seperti jaringan saraf konvolusi (CNN) untuk kinerja yang lebih baik dalam tugas klasifikasi gambar seperti MNIST."
      ],
      "metadata": {
        "id": "29UF_fDmkyY2"
      }
    },
    {
      "cell_type": "code",
      "source": [],
      "metadata": {
        "id": "mvpaMC19kxjX"
      },
      "execution_count": null,
      "outputs": []
    }
  ]
}